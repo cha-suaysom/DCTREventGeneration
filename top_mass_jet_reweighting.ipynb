{
 "cells": [
  {
   "cell_type": "markdown",
   "metadata": {},
   "source": [
    "### Investigation of Top Mass Observables Reweighting"
   ]
  },
  {
   "cell_type": "markdown",
   "metadata": {},
   "source": [
    "This notebook investigates DCTR reweighting performance on top mass daset\n",
    "\n",
    "* We use only the hadronic jets as input data \n",
    "* We use PFN for DCTR models\n",
    "* The model is tested on reweighting from observables"
   ]
  },
  {
   "cell_type": "markdown",
   "metadata": {},
   "source": [
    "### Imports"
   ]
  },
  {
   "cell_type": "code",
   "execution_count": 49,
   "metadata": {},
   "outputs": [],
   "source": [
    "import os\n",
    "os.environ[\"CUDA_DEVICE_ORDER\"]=\"PCI_BUS_ID\"\n",
    "os.environ[\"CUDA_VISIBLE_DEVICES\"]=\"3\""
   ]
  },
  {
   "cell_type": "code",
   "execution_count": 50,
   "metadata": {},
   "outputs": [],
   "source": [
    "# standard library imports\n",
    "from __future__ import absolute_import, division, print_function\n",
    "\n",
    "import tensorflow as tf\n",
    "import numpy as np\n",
    "from matplotlib import pyplot as plt\n",
    "from sklearn.utils import shuffle\n",
    "from sklearn.model_selection import train_test_split\n",
    "from keras.utils import to_categorical\n",
    "from keras import Sequential\n",
    "from keras.layers import Lambda, Dense, Input, Layer, Dropout\n",
    "from keras.models import Model\n",
    "from keras.utils import to_categorical\n",
    "from keras.callbacks import LambdaCallback, EarlyStopping\n",
    "import keras.backend as K\n",
    "import keras\n",
    "\n",
    "\n",
    "import inspect"
   ]
  },
  {
   "cell_type": "markdown",
   "metadata": {},
   "source": [
    "### Load the truth data for top mass 172.5 and split 80% for training and 20% for testing"
   ]
  },
  {
   "cell_type": "markdown",
   "metadata": {},
   "source": [
    "Instead of using hadronic mass we used 3 particle from the hadronic top. \n",
    "* Hadronic top: 'hadronicbjet' 'wjet1' 'wjet2'\n",
    "* Normalization is done as follow\n",
    "    * eta,phi are centered\n",
    "    * pT and mW are unit normalized"
   ]
  },
  {
   "cell_type": "code",
   "execution_count": 51,
   "metadata": {},
   "outputs": [],
   "source": [
    "def normalize(x):\n",
    "    mask = x[:,0] > 0 # Only process particles with postitive PT\n",
    "    yphi_avg = np.average(x[mask,1:3], weights=x[mask,0], axis=0)\n",
    "    x[mask,1:3] -= yphi_avg\n",
    "    x[mask,0] /= x[:,0].sum()\n",
    "    x[mask,3] /= x[:,3].sum()"
   ]
  },
  {
   "cell_type": "code",
   "execution_count": 52,
   "metadata": {},
   "outputs": [],
   "source": [
    "def preprocess_data(X):\n",
    "    for x in X:\n",
    "        normalize(x)\n",
    "    return X"
   ]
  },
  {
   "cell_type": "code",
   "execution_count": 53,
   "metadata": {},
   "outputs": [],
   "source": [
    "data_dir = 'DCTRFitting/'"
   ]
  },
  {
   "cell_type": "markdown",
   "metadata": {},
   "source": [
    "The indices for the jets are as follow\n",
    "* 0: part_event['leptonbjet']   + [mtop],\n",
    "* 1: part_event['hadronicbjet'] + [mtop],\n",
    "* 2: part_event['lepton']       + [mtop],\n",
    "* 3: part_event['neutrino']     + [mtop],\n",
    "* 4 : part_event['wjet1']        + [mtop],\n",
    "* 5: part_event['wjet2']        + [mtop],\n",
    "\n",
    "Since we are focusing on hadronic top, we use the indices 1,4,5"
   ]
  },
  {
   "cell_type": "code",
   "execution_count": 54,
   "metadata": {},
   "outputs": [],
   "source": [
    "default_had_mass_all = preprocess_data(np.load(data_dir + 'part_172_5_6j.npy')[:,[1,4,5],:-1])\n",
    "default_had_mass = default_had_mass_all[:int(len(default_had_mass_all)*0.8)]\n",
    "test_had_mass = default_had_mass_all[int(len(default_had_mass_all)*0.8):]"
   ]
  },
  {
   "cell_type": "code",
   "execution_count": 56,
   "metadata": {},
   "outputs": [],
   "source": [
    "truth_had_mass = preprocess_data(np.load(data_dir + 'part_175_0_6j.npy')[:,[1,4,5],:-1])[:len(default_had_mass)]"
   ]
  },
  {
   "cell_type": "markdown",
   "metadata": {},
   "source": [
    "### Prepare sample for DCTR reweighting"
   ]
  },
  {
   "cell_type": "code",
   "execution_count": 58,
   "metadata": {},
   "outputs": [],
   "source": [
    "X0 = default_had_mass\n",
    "Y0 = to_categorical(np.zeros(len(X0)), num_classes=2)"
   ]
  },
  {
   "cell_type": "code",
   "execution_count": 59,
   "metadata": {},
   "outputs": [],
   "source": [
    "X1 = truth_had_mass\n",
    "Y1 = to_categorical(np.ones(len(X1)), num_classes=2)"
   ]
  },
  {
   "cell_type": "code",
   "execution_count": 60,
   "metadata": {},
   "outputs": [],
   "source": [
    "X = np.concatenate((X0, X1))\n",
    "Y = np.concatenate((Y0, Y1))\n",
    "\n",
    "X_train, X_test, Y_train, Y_test = train_test_split(X, Y, test_size=0.2)"
   ]
  },
  {
   "cell_type": "markdown",
   "metadata": {},
   "source": [
    "### Define a PFN for reweighting"
   ]
  },
  {
   "cell_type": "code",
   "execution_count": 65,
   "metadata": {},
   "outputs": [],
   "source": [
    "import energyflow as ef\n",
    "from energyflow.archs import PFN\n",
    "from energyflow.utils import data_split, remap_pids, to_categorical\n",
    "\n",
    "# network architecture parameters\n",
    "Phi_sizes = (100,100, 128)\n",
    "F_sizes = (100,100, 100)\n",
    "\n",
    "dctr_model = PFN(input_dim=4, \n",
    "           Phi_sizes=Phi_sizes, F_sizes=F_sizes,\n",
    "           summary=False)"
   ]
  },
  {
   "cell_type": "code",
   "execution_count": 66,
   "metadata": {},
   "outputs": [],
   "source": [
    "from keras.callbacks import LambdaCallback, EarlyStopping"
   ]
  },
  {
   "cell_type": "code",
   "execution_count": 67,
   "metadata": {},
   "outputs": [],
   "source": [
    "save_label = 'DCTR_pfn_jets'\n",
    "\n",
    "checkpoint = keras.callbacks.ModelCheckpoint('./saved_models/' + save_label + '.h5', \n",
    "                                                monitor='val_loss', \n",
    "                                                verbose=2, \n",
    "                                                save_best_only=True, \n",
    "                                                mode='min')\n",
    "\n",
    "CSVLogger = keras.callbacks.CSVLogger('./logs/' + save_label + '_loss.csv', append=False)\n",
    "\n",
    "EarlyStopping = keras.callbacks.EarlyStopping(monitor='val_loss', \n",
    "                                              min_delta=0, \n",
    "                                              patience=10, \n",
    "                                              verbose=1, \n",
    "                                              restore_best_weights=True)\n",
    "\n",
    "callbacks = [checkpoint, CSVLogger, EarlyStopping]"
   ]
  },
  {
   "cell_type": "code",
   "execution_count": 68,
   "metadata": {},
   "outputs": [
    {
     "name": "stdout",
     "output_type": "stream",
     "text": [
      "Train on 73868 samples, validate on 18468 samples\n",
      "Epoch 1/100\n",
      "73868/73868 [==============================] - 54s 736us/step - loss: 0.6971 - acc: 0.4993 - val_loss: 0.6931 - val_acc: 0.5042\n",
      "\n",
      "Epoch 00001: val_loss improved from inf to 0.69311, saving model to ./saved_models/DCTR_pfn_jets.h5\n",
      "Epoch 2/100\n",
      "73868/73868 [==============================] - 53s 723us/step - loss: 0.6933 - acc: 0.4993 - val_loss: 0.6935 - val_acc: 0.4958\n",
      "\n",
      "Epoch 00002: val_loss did not improve from 0.69311\n",
      "Epoch 3/100\n",
      "73868/73868 [==============================] - 54s 725us/step - loss: 0.6932 - acc: 0.5001 - val_loss: 0.6933 - val_acc: 0.4958\n",
      "\n",
      "Epoch 00003: val_loss did not improve from 0.69311\n",
      "Epoch 4/100\n",
      "73868/73868 [==============================] - 54s 726us/step - loss: 0.6932 - acc: 0.5037 - val_loss: 0.6934 - val_acc: 0.4958\n",
      "\n",
      "Epoch 00004: val_loss did not improve from 0.69311\n",
      "Epoch 5/100\n",
      "73868/73868 [==============================] - 53s 721us/step - loss: 0.6932 - acc: 0.5011 - val_loss: 0.6932 - val_acc: 0.4958\n",
      "\n",
      "Epoch 00005: val_loss did not improve from 0.69311\n",
      "Epoch 6/100\n",
      "73868/73868 [==============================] - 53s 723us/step - loss: 0.6932 - acc: 0.4991 - val_loss: 0.6934 - val_acc: 0.4958\n",
      "\n",
      "Epoch 00006: val_loss did not improve from 0.69311\n",
      "Epoch 7/100\n",
      "73868/73868 [==============================] - 54s 726us/step - loss: 0.6932 - acc: 0.4981 - val_loss: 0.6932 - val_acc: 0.4958\n",
      "\n",
      "Epoch 00007: val_loss did not improve from 0.69311\n",
      "Epoch 8/100\n",
      "73868/73868 [==============================] - 54s 728us/step - loss: 0.6932 - acc: 0.4994 - val_loss: 0.6933 - val_acc: 0.4958\n",
      "\n",
      "Epoch 00008: val_loss did not improve from 0.69311\n",
      "Epoch 9/100\n",
      "73868/73868 [==============================] - 54s 726us/step - loss: 0.6932 - acc: 0.5022 - val_loss: 0.6931 - val_acc: 0.4958\n",
      "\n",
      "Epoch 00009: val_loss did not improve from 0.69311\n",
      "Epoch 10/100\n",
      "73868/73868 [==============================] - 54s 724us/step - loss: 0.6932 - acc: 0.5002 - val_loss: 0.6932 - val_acc: 0.4958\n",
      "\n",
      "Epoch 00010: val_loss did not improve from 0.69311\n",
      "Epoch 11/100\n",
      "73868/73868 [==============================] - 53s 724us/step - loss: 0.6932 - acc: 0.5011 - val_loss: 0.6934 - val_acc: 0.4958\n",
      "\n",
      "Epoch 00011: val_loss did not improve from 0.69311\n",
      "Restoring model weights from the end of the best epoch\n",
      "Epoch 00011: early stopping\n"
     ]
    }
   ],
   "source": [
    "history = dctr_model.fit(X_train, Y_train,\n",
    "                    epochs = 100,\n",
    "                    batch_size = 10,\n",
    "                    validation_data = (X_test, Y_test),\n",
    "                    verbose = 1, \n",
    "                    callbacks = callbacks)"
   ]
  },
  {
   "cell_type": "code",
   "execution_count": 69,
   "metadata": {},
   "outputs": [
    {
     "data": {
      "image/png": "[encoded data removed]",
      "text/plain": [
       "<Figure size 432x288 with 1 Axes>"
      ]
     },
     "metadata": {
      "needs_background": "light"
     },
     "output_type": "display_data"
    }
   ],
   "source": [
    "plt.title(\"Training and validation loss per epoch\")\n",
    "plt.xlabel(\"epoch\")\n",
    "plt.ylabel(\"loss value\")\n",
    "plt.plot(dctr_model.history.history['val_loss'], label = \"validation loss\")\n",
    "plt.plot(dctr_model.history.history['loss'], label = \"training loss loss\")\n",
    "plt.legend()\n",
    "plt.show()"
   ]
  },
  {
   "cell_type": "markdown",
   "metadata": {},
   "source": [
    "## Reweighting from data of mass 172.5 to 175"
   ]
  },
  {
   "cell_type": "markdown",
   "metadata": {},
   "source": [
    "### Calculate the weight from DCTR model"
   ]
  },
  {
   "cell_type": "code",
   "execution_count": 116,
   "metadata": {},
   "outputs": [],
   "source": [
    "X0_test = preprocess_data(test_had_mass)"
   ]
  },
  {
   "cell_type": "code",
   "execution_count": 117,
   "metadata": {},
   "outputs": [],
   "source": [
    "preds = dctr_model.predict(X0_test)\n",
    "weights = preds[:,1]/preds[:,0]"
   ]
  },
  {
   "cell_type": "code",
   "execution_count": 118,
   "metadata": {},
   "outputs": [
    {
     "data": {
      "image/png": "[encoded data removed]",
      "text/plain": [
       "<Figure size 432x288 with 1 Axes>"
      ]
     },
     "metadata": {
      "needs_background": "light"
     },
     "output_type": "display_data"
    }
   ],
   "source": [
    "bins = np.linspace(0.9,1.1,50)\n",
    "plt.hist(weights, bins = bins, alpha = 0.5)[0]\n",
    "plt.title(\"Distribution of weight from mass 172.5 data\")\n",
    "plt.show()"
   ]
  },
  {
   "cell_type": "markdown",
   "metadata": {},
   "source": [
    "### Load jets observables to perform reweighting"
   ]
  },
  {
   "cell_type": "code",
   "execution_count": 110,
   "metadata": {},
   "outputs": [],
   "source": [
    "X0_test_obs = np.load(data_dir + 'part_172_5_6j_obs.npy')[:,1][int(len(default_had_mass_all)*0.8):]\n",
    "X1_test_obs = np.load(data_dir + 'part_175_0_6j_obs.npy')[:,1][:len(X0_test_obs)]"
   ]
  },
  {
   "cell_type": "code",
   "execution_count": 114,
   "metadata": {},
   "outputs": [
    {
     "data": {
      "image/png": "[encoded data removed]",
      "text/plain": [
       "<Figure size 432x288 with 1 Axes>"
      ]
     },
     "metadata": {
      "needs_background": "light"
     },
     "output_type": "display_data"
    }
   ],
   "source": [
    "bins = np.linspace(100,700,50)\n",
    "plt.title(\"Reweighting of hadronic mass\")\n",
    "\n",
    "target_data_hist = plt.hist(X0_test_obs, bins = bins, alpha = 0.5, label = 'm = 172.5')[0]\n",
    "reweight_data_hist = plt.hist(X0_test_obs, bins = bins, label = 'm=172.5 weighted', weights=weights)[0]\n",
    "default_data_hist = plt.hist(X1_test_obs, bins = bins, alpha = 0.5, label = 'm = 175',histtype='step', color='k')[0]\n",
    "plt.legend()\n",
    "plt.show()"
   ]
  }
 ],
 "metadata": {
  "kernelspec": {
   "display_name": "Python 3",
   "language": "python",
   "name": "python3"
  }
 },
 "nbformat": 4,
 "nbformat_minor": 2
}
