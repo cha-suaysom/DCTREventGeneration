{
 "cells": [
  {
   "cell_type": "markdown",
   "metadata": {},
   "source": [
    "# Alternative DCTR fitting algorithm\n",
    "\n",
    "The DCTR paper (https://arxiv.org/abs/1907.08209) shows how a continuously parameterized NN used for reweighting:\n",
    "\n",
    "$f(x,\\theta)=\\text{argmax}_{f'}\\sum_{i\\in\\bf{\\theta}_0}\\log f'(x_i,\\theta)+\\sum_{i\\in\\bf{\\theta}}\\log (1-f'(x_i,\\theta))$\n",
    "\n",
    "can also be used for fitting:\n",
    "\n",
    "$\\theta^*=\\text{argmax}_{\\theta'}\\sum_{i\\in\\bf{\\theta}_0}\\log f(x_i,\\theta')+\\sum_{i\\in\\bf{\\theta}}\\log (1-f(x_i,\\theta'))$\n",
    "\n",
    "This works well when the reweighting and fitting happen on the same 'level'.  However, if the reweighting happens at truth level (before detector simulation) while the fit happens in data (after the effects of the detector), this procedure will not work.  It works only if the reweighting and fitting both happen at detector-level or both happen at truth-level.  This notebook illustrates an alternative procedure:\n",
    "\n",
    "$\\theta^*=\\text{argmax}_{\\theta'}\\text{min}_{g}\\sum_{i\\in\\bf{\\theta}_0}\\log g(x_i)+\\sum_{i\\in\\bf{\\theta}}(f(x_i,\\theta')/(1-f(x_i,\\theta')))\\log (1-g(x_i))$\n",
    "\n",
    "where the $f(x,\\theta')/(1-f(x,\\theta'))$ is the reweighting function.  The intuition of the above equation is that the classifier $g$ is trying to distinguish the two samples and we try to find a $\\theta$ that makes $g$'s task maximally hard.  If $g$ can't tell apart the two samples, then the reweighting has worked!  This is similar to the minimax graining of a GAN, only now the analog of the generator network is the reweighting network which is fixed and thus the only trainable parameters are the $\\theta'$.  The advantage of this second approach is that it readily generalizes to the case where the reweighting happens on a different level:\n",
    "\n",
    "$\\theta^*=\\text{argmax}_{\\theta'}\\text{min}_{g}\\sum_{i\\in\\bf{\\theta}_0}\\log g(x_{D,i})+\\sum_{i\\in\\bf{\\theta}}(f(x_{T,i},\\theta')/(1-f(x_{T,i},\\theta')))\\log (1-g(x_{D,i}))$\n",
    "\n",
    "where $x_T$ is the truth value and $x_D$ is the detector-level value.  In simulation (the second sum), these come in pairs and so one can apply the reweighting on one level and the classification on the other.  Asympotitically, both this method and the one in the body of the DCTR paper learn the same result: $\\theta^*=\\theta_0$."
   ]
  },
  {
   "cell_type": "code",
   "execution_count": 1,
   "metadata": {
    "collapsed": false
   },
   "outputs": [],
   "source": [
    "import tensorflow as tf\n",
    "import numpy as np\n",
    "from matplotlib import pyplot as plt\n",
    "from sklearn.utils import shuffle\n",
    "from sklearn.model_selection import train_test_split\n",
    "\n",
    "from IPython.display import Image, display"
   ]
  },
  {
   "cell_type": "code",
   "execution_count": 2,
   "metadata": {
    "collapsed": false
   },
   "outputs": [],
   "source": [
    "from tensorflow.keras.utils import to_categorical\n",
    "from tensorflow.keras import Sequential\n",
    "from tensorflow.keras.layers import Lambda, Dense, Input, Layer, Dropout\n",
    "from tensorflow.keras.models import Model\n",
    "from tensorflow.keras.utils import to_categorical\n",
    "from tensorflow.keras.callbacks import LambdaCallback\n",
    "import tensorflow.keras.backend as K\n",
    "import tensorflow.keras "
   ]
  },
  {
   "cell_type": "code",
   "execution_count": 3,
   "metadata": {
    "collapsed": false
   },
   "outputs": [
    {
     "data": {
      "text/plain": [
       "'2.0.0'"
      ]
     },
     "execution_count": 3,
     "metadata": {},
     "output_type": "execute_result"
    }
   ],
   "source": [
    "tf.__version__"
   ]
  },
  {
   "cell_type": "markdown",
   "metadata": {},
   "source": [
    "# Setup the dataset\n",
    "\n",
    "We'll show the new setup with a simple Gaussian example.  Let's start by setting up the dataset."
   ]
  },
  {
   "cell_type": "code",
   "execution_count": 4,
   "metadata": {
    "collapsed": true
   },
   "outputs": [],
   "source": [
    "N = 1000000\n",
    "theta0_param = 0 #this is the simulation ... N.B. this notation is reversed from above!\n",
    "theta1_param = 1 #this is the data (the target)\n",
    "\n",
    "theta0 = np.random.normal(theta0_param,1,N)\n",
    "theta1 = np.random.normal(theta1_param,1,N)\n",
    "labels0 = np.zeros(len(theta0))\n",
    "labels1 = np.ones(len(theta1))\n",
    "\n",
    "xvals = np.concatenate([theta0,theta1])\n",
    "yvals = np.concatenate([labels0,labels1])\n",
    "\n",
    "X_train, X_test, y_train, y_test = train_test_split(xvals, yvals, test_size=0.5)"
   ]
  },
  {
   "cell_type": "markdown",
   "metadata": {},
   "source": [
    "# Weight Model\n",
    "\n",
    "Let's show that the reweighting works by training a DCTR model."
   ]
  },
  {
   "cell_type": "code",
   "execution_count": 5,
   "metadata": {
    "collapsed": true
   },
   "outputs": [],
   "source": [
    "theta_min = -2\n",
    "theta_max = 2\n",
    "\n",
    "theta_many = np.random.uniform(theta_min,theta_max,N)\n",
    "vals_many = np.random.normal(theta_many,1,N)\n",
    "simulation = list(zip(vals_many,theta_many))\n",
    "\n",
    "vals_target = np.random.normal(theta1_param,1,N)\n",
    "data = list(zip(vals_target,theta_many))"
   ]
  },
  {
   "cell_type": "code",
   "execution_count": 6,
   "metadata": {
    "collapsed": false
   },
   "outputs": [],
   "source": [
    "model_weight = Sequential()\n",
    "model_weight.add(Dense(20, input_dim=2, activation='relu'))\n",
    "model_weight.add(Dense(40, activation='relu'))\n",
    "model_weight.add(Dense(1, activation='sigmoid'))"
   ]
  },
  {
   "cell_type": "code",
   "execution_count": 7,
   "metadata": {
    "collapsed": true
   },
   "outputs": [],
   "source": [
    "data_labels = np.ones(len(data))\n",
    "simulation_labels = np.zeros(len(simulation))\n",
    "X = np.concatenate((data, simulation))\n",
    "Y = np.concatenate((data_labels, simulation_labels))\n",
    "X_train_weight, X_test_weight, Y_train_weight, Y_test_weight = train_test_split(X, Y, test_size=0.5)"
   ]
  },
  {
   "cell_type": "code",
   "execution_count": 8,
   "metadata": {
    "collapsed": true
   },
   "outputs": [],
   "source": [
    "model_weight.compile(loss='binary_crossentropy', optimizer='adam', metrics=['accuracy'])"
   ]
  },
  {
   "cell_type": "code",
   "execution_count": 9,
   "metadata": {
    "collapsed": false
   },
   "outputs": [
    {
     "name": "stdout",
     "output_type": "stream",
     "text": [
      "Train on 1000000 samples\n",
      "Epoch 1/3\n",
      "1000000/1000000 [==============================] - 4s 4us/sample - loss: 0.5462 - accuracy: 0.6940\n",
      "Epoch 2/3\n",
      "1000000/1000000 [==============================] - 2s 2us/sample - loss: 0.5130 - accuracy: 0.7107\n",
      "Epoch 3/3\n",
      "1000000/1000000 [==============================] - 2s 2us/sample - loss: 0.5111 - accuracy: 0.7125\n"
     ]
    },
    {
     "data": {
      "text/plain": [
       "<tensorflow.python.keras.callbacks.History at 0x7f54c02cb860>"
      ]
     },
     "execution_count": 9,
     "metadata": {},
     "output_type": "execute_result"
    }
   ],
   "source": [
    "model_weight.fit(X_train_weight, Y_train_weight, epochs=3, batch_size=5000)"
   ]
  },
  {
   "cell_type": "code",
   "execution_count": 10,
   "metadata": {
    "collapsed": true
   },
   "outputs": [],
   "source": [
    "exact_weights = np.exp(-0.5*(theta0-theta1_param)**2+0.5*(theta0-theta0_param)**2)"
   ]
  },
  {
   "cell_type": "code",
   "execution_count": 11,
   "metadata": {
    "collapsed": false
   },
   "outputs": [],
   "source": [
    "pred_input = np.array(list(zip(theta0,theta0_param*np.ones(len(theta0)))))\n",
    "preds = model_weight.predict(pred_input)"
   ]
  },
  {
   "cell_type": "code",
   "execution_count": 12,
   "metadata": {
    "collapsed": true
   },
   "outputs": [],
   "source": [
    "pred_weights = preds/(1.-preds)"
   ]
  },
  {
   "cell_type": "code",
   "execution_count": 13,
   "metadata": {
    "collapsed": false
   },
   "outputs": [
    {
     "data": {
      "text/plain": [
       "(1000000, 2)"
      ]
     },
     "execution_count": 13,
     "metadata": {},
     "output_type": "execute_result"
    }
   ],
   "source": [
    "pred_input.shape"
   ]
  },
  {
   "cell_type": "code",
   "execution_count": 14,
   "metadata": {
    "collapsed": false
   },
   "outputs": [
    {
     "data": {
      "text/plain": [
       "(1000000,)"
      ]
     },
     "execution_count": 14,
     "metadata": {},
     "output_type": "execute_result"
    }
   ],
   "source": [
    "theta0.shape"
   ]
  },
  {
   "cell_type": "code",
   "execution_count": 15,
   "metadata": {
    "collapsed": false
   },
   "outputs": [
    {
     "name": "stdout",
     "output_type": "stream",
     "text": [
      "(1, 2)\n"
     ]
    },
    {
     "data": {
      "text/plain": [
       "array([[0.52883583]], dtype=float32)"
      ]
     },
     "execution_count": 15,
     "metadata": {},
     "output_type": "execute_result"
    }
   ],
   "source": [
    "input_pred = np.array(list(zip(np.array([0]),np.array([1]))))\n",
    "print(input_pred.shape)\n",
    "model_weight.predict(input_pred)"
   ]
  },
  {
   "cell_type": "code",
   "execution_count": 16,
   "metadata": {
    "collapsed": false
   },
   "outputs": [
    {
     "name": "stdout",
     "output_type": "stream",
     "text": [
      "[[ 0.68643198  0.        ]\n",
      " [-0.85650089  0.        ]\n",
      " [-1.0674002   0.        ]\n",
      " ...\n",
      " [ 1.00700804  0.        ]\n",
      " [ 0.51133945  0.        ]\n",
      " [-2.0419641   0.        ]]\n"
     ]
    }
   ],
   "source": [
    "print(pred_input)"
   ]
  },
  {
   "cell_type": "code",
   "execution_count": 17,
   "metadata": {
    "collapsed": false
   },
   "outputs": [
    {
     "data": {
      "text/plain": [
       "array([[0.53728664],\n",
       "       [0.2022613 ],\n",
       "       [0.17626628],\n",
       "       ...,\n",
       "       [0.62273026],\n",
       "       [0.488773  ],\n",
       "       [0.08970556]], dtype=float32)"
      ]
     },
     "execution_count": 17,
     "metadata": {},
     "output_type": "execute_result"
    }
   ],
   "source": [
    "preds"
   ]
  },
  {
   "cell_type": "code",
   "execution_count": 18,
   "metadata": {
    "collapsed": false
   },
   "outputs": [
    {
     "data": {
      "text/plain": [
       "array([[1.1611651 ],\n",
       "       [0.25354332],\n",
       "       [0.21398455],\n",
       "       ...,\n",
       "       [1.6506233 ],\n",
       "       [0.9560782 ],\n",
       "       [0.09854566]], dtype=float32)"
      ]
     },
     "execution_count": 18,
     "metadata": {},
     "output_type": "execute_result"
    }
   ],
   "source": [
    "pred_weights"
   ]
  },
  {
   "cell_type": "code",
   "execution_count": 19,
   "metadata": {
    "collapsed": false
   },
   "outputs": [
    {
     "data": {
      "text/plain": [
       "array([1.20494266, 0.25756043, 0.20858676, ..., 1.66031616, 1.01140398,\n",
       "       0.07871165])"
      ]
     },
     "execution_count": 19,
     "metadata": {},
     "output_type": "execute_result"
    }
   ],
   "source": [
    "exact_weights"
   ]
  },
  {
   "cell_type": "code",
   "execution_count": 20,
   "metadata": {
    "collapsed": false
   },
   "outputs": [],
   "source": [
    "plt.cla()\n",
    "bins = np.linspace(0,10,51)\n",
    "plt.hist(np.clip(exact_weights, bins[0], bins[-1]), bins=bins, alpha=0.5, label='Exact')\n",
    "plt.hist(np.clip(pred_weights, bins[0], bins[-1]), bins=bins, alpha=0.5, label='Predicted')\n",
    "plt.title(\"Compare exact and Predicted Weights\")\n",
    "plt.legend(loc=1)\n",
    "plt.xlabel(\"Weight\")\n",
    "plt.savefig(\"Weight_dist.png\")"
   ]
  },
  {
   "cell_type": "code",
   "execution_count": 21,
   "metadata": {
    "collapsed": false
   },
   "outputs": [
    {
     "data": {
      "image/png": "[encoded data removed]",
      "text/plain": [
       "<IPython.core.display.Image object>"
      ]
     },
     "metadata": {},
     "output_type": "display_data"
    }
   ],
   "source": [
    "display(Image(filename=\"Weight_dist.png\"))"
   ]
  },
  {
   "cell_type": "markdown",
   "metadata": {},
   "source": [
    "Now, for the fitting part, let's factorize the problem and assume we already have a good DCTR model.  In this Gaussian case, we know the right answer so we can just use the exact reweighting instead of the NN one."
   ]
  },
  {
   "cell_type": "markdown",
   "metadata": {},
   "source": [
    "# Fitting Model\n",
    "\n",
    "We'll start by showing that for fixed $\\theta$, the maximum loss occurs when $\\theta=\\theta_1$."
   ]
  },
  {
   "cell_type": "code",
   "execution_count": 148,
   "metadata": {
    "collapsed": false
   },
   "outputs": [],
   "source": [
    "thetas = np.linspace(0,2,10)\n",
    "train_result_list = []\n",
    "for i in range(len(thetas)):\n",
    "    weight_value = model_weight.predict(np.array(list(zip(X_train,thetas[i]*np.ones(len(X_train))))))\n",
    "    weight = weight_value/(1-weight_value)\n",
    "    weight = tf.convert_to_tensor(weight.astype(np.float32))\n",
    "    train_result_list.append(weight)"
   ]
  },
  {
   "cell_type": "markdown",
   "metadata": {},
   "source": [
    "### Using trained model rather than exact Gaussian weights"
   ]
  },
  {
   "cell_type": "code",
   "execution_count": 149,
   "metadata": {
    "collapsed": false
   },
   "outputs": [],
   "source": [
    "myinputs = Input(shape=(1,))\n",
    "\n",
    "x = Dense(128, activation='relu')(myinputs)\n",
    "x2 = Dense(128, activation='relu')(x)\n",
    "predictions = Dense(1, activation='sigmoid')(x2)\n",
    "          \n",
    "model = Model(inputs=myinputs, outputs=predictions)\n",
    "#model.summary()\n",
    "\n",
    "def my_loss_wrapper(weight,val=0.0):\n",
    "            \n",
    "    theta0 = val #target value \n",
    "    def my_loss(y_true,y_pred):\n",
    "        t_loss = y_true*(y_true - y_pred)**2+(weight**2)*(1.-y_true)*(y_true - y_pred)**2\n",
    "        return K.mean(t_loss)\n",
    "    return my_loss"
   ]
  },
  {
   "cell_type": "code",
   "execution_count": 159,
   "metadata": {
    "collapsed": false
   },
   "outputs": [
    {
     "name": "stdout",
     "output_type": "stream",
     "text": [
      "Train on 1000000 samples, validate on 1000000 samples\n",
      "1000000/1000000 [==============================] - 25s 25us/sample - loss: 0.3996 - accuracy: 0.5160 - val_loss: 0.4002 - val_accuracy: 0.5296\n",
      "Train on 1000000 samples, validate on 1000000 samples\n",
      "1000000/1000000 [==============================] - 25s 25us/sample - loss: 0.3536 - accuracy: 0.5295 - val_loss: 0.3450 - val_accuracy: 0.5461\n",
      "Train on 1000000 samples, validate on 1000000 samples\n",
      "1000000/1000000 [==============================] - 19s 19us/sample - loss: 0.3245 - accuracy: 0.5458 - val_loss: 0.3125 - val_accuracy: 0.5635\n",
      "Train on 1000000 samples, validate on 1000000 samples\n",
      "1000000/1000000 [==============================] - 14s 14us/sample - loss: 0.3042 - accuracy: 0.5637 - val_loss: 0.2917 - val_accuracy: 0.5811\n",
      "Train on 1000000 samples, validate on 1000000 samples\n",
      "1000000/1000000 [==============================] - 13s 13us/sample - loss: 0.2907 - accuracy: 0.5814 - val_loss: 0.2793 - val_accuracy: 0.5975\n",
      "Train on 1000000 samples, validate on 1000000 samples\n",
      "1000000/1000000 [==============================] - 13s 13us/sample - loss: 0.2852 - accuracy: 0.5978 - val_loss: 0.2762 - val_accuracy: 0.6128\n",
      "Train on 1000000 samples, validate on 1000000 samples\n",
      "1000000/1000000 [==============================] - 12s 12us/sample - loss: 0.2929 - accuracy: 0.6130 - val_loss: 0.2884 - val_accuracy: 0.6261\n",
      "Train on 1000000 samples, validate on 1000000 samples\n",
      "1000000/1000000 [==============================] - 11s 11us/sample - loss: 0.3244 - accuracy: 0.6263 - val_loss: 0.3231 - val_accuracy: 0.6168\n",
      "Train on 1000000 samples, validate on 1000000 samples\n",
      "1000000/1000000 [==============================] - 12s 12us/sample - loss: 0.3795 - accuracy: 0.6169 - val_loss: 0.3728 - val_accuracy: 0.6018\n",
      "Train on 1000000 samples, validate on 1000000 samples\n",
      "1000000/1000000 [==============================] - 16s 16us/sample - loss: 0.4511 - accuracy: 0.6021 - val_loss: 0.4346 - val_accuracy: 0.5856\n",
      "[[0.4002333879470825], [0.3450463116168976], [0.312508225440979], [0.29167306423187256], [0.2793389856815338], [0.2762216329574585], [0.28836074471473694], [0.323126882314682], [0.37275072932243347], [0.4345686435699463]]\n"
     ]
    }
   ],
   "source": [
    "lvals = []\n",
    "for i in range(len(thetas)):\n",
    "    theta = thetas[i]\n",
    "    model.compile(optimizer='adam', loss=my_loss_wrapper(train_result_list[i],theta),metrics=['accuracy'])\n",
    "    model.fit(np.array(X_train), y_train, epochs=1, batch_size=len(X_train),validation_data=(np.array(X_test), y_test),verbose=1)\n",
    "    lvals+=[model.history.history['val_loss']]\n",
    "    print\n",
    "    pass\n",
    "print(lvals) "
   ]
  },
  {
   "cell_type": "code",
   "execution_count": 160,
   "metadata": {
    "collapsed": false
   },
   "outputs": [
    {
     "data": {
      "image/png": "[encoded data removed]",
      "text/plain": [
       "<IPython.core.display.Image object>"
      ]
     },
     "metadata": {},
     "output_type": "display_data"
    }
   ],
   "source": [
    "plt.cla()\n",
    "loss_finish = [loss_value[-1] for loss_value in lvals]\n",
    "plt.plot(thetas,loss_finish)\n",
    "plt.xlabel(r'$\\theta$')\n",
    "plt.ylabel('Loss')\n",
    "plt.title(\"Loss versus Theta\")\n",
    "plt.savefig(\"Theta.png\")\n",
    "display(Image(filename=\"Theta.png\"))"
   ]
  }
 ],
 "metadata": {
  "anaconda-cloud": {},
  "kernelspec": {
   "display_name": "Python [Root]",
   "language": "python",
   "name": "Python [Root]"
  },
  "language_info": {
   "codemirror_mode": {
    "name": "ipython",
    "version": 3
   },
   "file_extension": ".py",
   "mimetype": "text/x-python",
   "name": "python",
   "nbconvert_exporter": "python",
   "pygments_lexer": "ipython3",
   "version": "3.5.2"
  }
 },
 "nbformat": 4,
 "nbformat_minor": 2
}
