{
 "cells": [
  {
   "cell_type": "markdown",
   "metadata": {},
   "source": [
    "### Investigation of Top Mass Reweighting"
   ]
  },
  {
   "cell_type": "code",
   "execution_count": 1,
   "metadata": {},
   "outputs": [],
   "source": [
    "import os\n",
    "os.environ[\"CUDA_DEVICE_ORDER\"]=\"PCI_BUS_ID\"\n",
    "os.environ[\"CUDA_VISIBLE_DEVICES\"]=\"3\""
   ]
  },
  {
   "cell_type": "code",
   "execution_count": 2,
   "metadata": {},
   "outputs": [
    {
     "name": "stderr",
     "output_type": "stream",
     "text": [
      "/home/csuaysom/.local/lib/python3.5/site-packages/tensorflow/python/framework/dtypes.py:523: FutureWarning: Passing (type, 1) or '1type' as a synonym of type is deprecated; in a future version of numpy, it will be understood as (type, (1,)) / '(1,)type'.\n",
      "  _np_qint8 = np.dtype([(\"qint8\", np.int8, 1)])\n",
      "/home/csuaysom/.local/lib/python3.5/site-packages/tensorflow/python/framework/dtypes.py:524: FutureWarning: Passing (type, 1) or '1type' as a synonym of type is deprecated; in a future version of numpy, it will be understood as (type, (1,)) / '(1,)type'.\n",
      "  _np_quint8 = np.dtype([(\"quint8\", np.uint8, 1)])\n",
      "/home/csuaysom/.local/lib/python3.5/site-packages/tensorflow/python/framework/dtypes.py:525: FutureWarning: Passing (type, 1) or '1type' as a synonym of type is deprecated; in a future version of numpy, it will be understood as (type, (1,)) / '(1,)type'.\n",
      "  _np_qint16 = np.dtype([(\"qint16\", np.int16, 1)])\n",
      "/home/csuaysom/.local/lib/python3.5/site-packages/tensorflow/python/framework/dtypes.py:526: FutureWarning: Passing (type, 1) or '1type' as a synonym of type is deprecated; in a future version of numpy, it will be understood as (type, (1,)) / '(1,)type'.\n",
      "  _np_quint16 = np.dtype([(\"quint16\", np.uint16, 1)])\n",
      "/home/csuaysom/.local/lib/python3.5/site-packages/tensorflow/python/framework/dtypes.py:527: FutureWarning: Passing (type, 1) or '1type' as a synonym of type is deprecated; in a future version of numpy, it will be understood as (type, (1,)) / '(1,)type'.\n",
      "  _np_qint32 = np.dtype([(\"qint32\", np.int32, 1)])\n",
      "/home/csuaysom/.local/lib/python3.5/site-packages/tensorflow/python/framework/dtypes.py:532: FutureWarning: Passing (type, 1) or '1type' as a synonym of type is deprecated; in a future version of numpy, it will be understood as (type, (1,)) / '(1,)type'.\n",
      "  np_resource = np.dtype([(\"resource\", np.ubyte, 1)])\n",
      "Using TensorFlow backend.\n"
     ]
    }
   ],
   "source": [
    "# standard library imports\n",
    "from __future__ import absolute_import, division, print_function\n",
    "\n",
    "import tensorflow as tf\n",
    "import numpy as np\n",
    "from matplotlib import pyplot as plt\n",
    "from sklearn.utils import shuffle\n",
    "from sklearn.model_selection import train_test_split\n",
    "from keras.utils import to_categorical\n",
    "from keras import Sequential\n",
    "from keras.layers import Lambda, Dense, Input, Layer, Dropout\n",
    "from keras.models import Model\n",
    "from keras.utils import to_categorical\n",
    "from keras.callbacks import LambdaCallback, EarlyStopping\n",
    "import keras.backend as K\n",
    "import keras\n",
    "\n",
    "\n",
    "import inspect"
   ]
  },
  {
   "cell_type": "code",
   "execution_count": 3,
   "metadata": {},
   "outputs": [],
   "source": [
    "# normalize pT and center (y, phi)\n",
    "def normalize(x):\n",
    "    mask = x[:,0] > 0\n",
    "    yphi_avg = np.average(x[mask,1:3], weights=x[mask,0], axis=0)\n",
    "    x[mask,1:3] -= yphi_avg\n",
    "    x[mask,0] /= x[:,0].sum()"
   ]
  },
  {
   "cell_type": "code",
   "execution_count": 4,
   "metadata": {},
   "outputs": [],
   "source": [
    "def preprocess_data(X):\n",
    "    for x in X:\n",
    "        normalize(x)\n",
    "    \n",
    "    # Remap PIDs to unique values in range [0,1]\n",
    "    remap_pids(X, pid_i=3)\n",
    "    return X"
   ]
  },
  {
   "cell_type": "code",
   "execution_count": 5,
   "metadata": {},
   "outputs": [],
   "source": [
    "data_dir = 'DCTRFitting/'"
   ]
  },
  {
   "cell_type": "code",
   "execution_count": 6,
   "metadata": {},
   "outputs": [],
   "source": [
    "default_had_mass = np.load(data_dir + 'part_172_5_6j_obs.npy')[:,1]"
   ]
  },
  {
   "cell_type": "code",
   "execution_count": 7,
   "metadata": {},
   "outputs": [
    {
     "data": {
      "image/png": "[encoded data removed]",
      "text/plain": [
       "<Figure size 432x288 with 1 Axes>"
      ]
     },
     "metadata": {
      "needs_background": "light"
     },
     "output_type": "display_data"
    }
   ],
   "source": [
    "plt.hist(default_had_mass, bins = np.linspace(0,700,200))\n",
    "plt.title(\"Default (172.5) Hadronic masses distribution (GeV)\")\n",
    "plt.show()"
   ]
  },
  {
   "cell_type": "code",
   "execution_count": 8,
   "metadata": {},
   "outputs": [],
   "source": [
    "truth_had_mass = np.load(data_dir+ 'part_varmass_6j_obs.npy')[:,1][:len(default_had_mass)]"
   ]
  },
  {
   "cell_type": "code",
   "execution_count": 9,
   "metadata": {},
   "outputs": [
    {
     "data": {
      "image/png": "[encoded data removed]",
      "text/plain": [
       "<Figure size 432x288 with 1 Axes>"
      ]
     },
     "metadata": {
      "needs_background": "light"
     },
     "output_type": "display_data"
    }
   ],
   "source": [
    "plt.hist(truth_had_mass, bins = np.linspace(0,700,200))\n",
    "plt.title(\"Truth (variable mass) Hadronic masses distribution (GeV)\")\n",
    "plt.show()"
   ]
  },
  {
   "cell_type": "code",
   "execution_count": 10,
   "metadata": {},
   "outputs": [
    {
     "data": {
      "image/png": "[encoded data removed]",
      "text/plain": [
       "<Figure size 432x288 with 1 Axes>"
      ]
     },
     "metadata": {
      "needs_background": "light"
     },
     "output_type": "display_data"
    }
   ],
   "source": [
    "mu_values = np.load(data_dir+ 'part_varmass_6j.npy')[:,0,-1]\n",
    "plt.hist(mu_values, bins = np.linspace(165,185,200))\n",
    "plt.title(\"Truth top mass distribution (GeV)\")\n",
    "plt.show()"
   ]
  },
  {
   "cell_type": "code",
   "execution_count": 11,
   "metadata": {},
   "outputs": [],
   "source": [
    "mu_min = 170\n",
    "mu_max = 180\n",
    "mu_values = np.random.uniform(mu_min, mu_max, len(default_had_mass))\n",
    "X0 = [(default_had_mass[i], mu_values[i]) for i in range(len(default_had_mass))]\n",
    "Y0 = to_categorical(np.zeros(len(X0)), num_classes=2)"
   ]
  },
  {
   "cell_type": "code",
   "execution_count": 12,
   "metadata": {},
   "outputs": [],
   "source": [
    "mu_values = np.load(data_dir+ 'part_varmass_6j.npy')[:,0,-1]\n",
    "X1 = [(truth_had_mass[i], mu_values[i]) for i in range(len(truth_had_mass))]\n",
    "Y1 = to_categorical(np.ones(len(X1)), num_classes=2)"
   ]
  },
  {
   "cell_type": "code",
   "execution_count": 13,
   "metadata": {},
   "outputs": [],
   "source": [
    "X = np.concatenate((X0, X1))\n",
    "Y = np.concatenate((Y0, Y1))\n",
    "\n",
    "X_train, X_test, Y_train, Y_test = train_test_split(X, Y, test_size=0.2)"
   ]
  },
  {
   "cell_type": "code",
   "execution_count": 14,
   "metadata": {},
   "outputs": [],
   "source": [
    "inputs = Input((2,))\n",
    "hidden_layer_1 = Dense(50, activation='relu')(inputs)\n",
    "hidden_layer_2 = Dense(50, activation='relu')(hidden_layer_1)\n",
    "hidden_layer_3 = Dense(50, activation='relu')(hidden_layer_2)\n",
    "\n",
    "outputs = Dense(2, activation='softmax')(hidden_layer_3)\n",
    "\n",
    "dctr_model = Model(inputs = inputs, outputs = outputs)\n",
    "dctr_model.compile(loss='categorical_crossentropy', optimizer='Adam')"
   ]
  },
  {
   "cell_type": "code",
   "execution_count": 15,
   "metadata": {},
   "outputs": [
    {
     "name": "stdout",
     "output_type": "stream",
     "text": [
      "Train on 92336 samples, validate on 23084 samples\n",
      "Epoch 1/20\n",
      "92336/92336 [==============================] - 8s 86us/step - loss: 0.7949 - val_loss: 0.7105\n",
      "Epoch 2/20\n",
      "92336/92336 [==============================] - 5s 54us/step - loss: 0.7531 - val_loss: 1.1144\n",
      "Epoch 3/20\n",
      "92336/92336 [==============================] - 5s 52us/step - loss: 0.7338 - val_loss: 0.7095\n",
      "Epoch 4/20\n",
      "92336/92336 [==============================] - 5s 51us/step - loss: 0.7293 - val_loss: 0.7158\n",
      "Epoch 5/20\n",
      "92336/92336 [==============================] - 5s 52us/step - loss: 0.7187 - val_loss: 0.6964\n",
      "Epoch 6/20\n",
      "92336/92336 [==============================] - 5s 52us/step - loss: 0.7121 - val_loss: 0.6951\n",
      "Epoch 7/20\n",
      "92336/92336 [==============================] - 5s 52us/step - loss: 0.7046 - val_loss: 0.6937\n",
      "Epoch 8/20\n",
      "92336/92336 [==============================] - 5s 52us/step - loss: 0.6976 - val_loss: 0.6975\n",
      "Epoch 9/20\n",
      "92336/92336 [==============================] - 5s 52us/step - loss: 0.6949 - val_loss: 0.6952\n",
      "Epoch 10/20\n",
      "92336/92336 [==============================] - 5s 52us/step - loss: 0.6934 - val_loss: 0.6931\n",
      "Epoch 11/20\n",
      "92336/92336 [==============================] - 5s 53us/step - loss: 0.6932 - val_loss: 0.6931\n",
      "Epoch 12/20\n",
      "92336/92336 [==============================] - 5s 52us/step - loss: 0.6932 - val_loss: 0.6932\n",
      "Epoch 13/20\n",
      "92336/92336 [==============================] - 5s 52us/step - loss: 0.6932 - val_loss: 0.6932\n",
      "Epoch 14/20\n",
      "92336/92336 [==============================] - 5s 52us/step - loss: 0.6932 - val_loss: 0.6934\n",
      "Epoch 15/20\n",
      "92336/92336 [==============================] - 5s 52us/step - loss: 0.6932 - val_loss: 0.6932\n",
      "Epoch 16/20\n",
      "92336/92336 [==============================] - 5s 51us/step - loss: 0.6932 - val_loss: 0.6932\n",
      "Epoch 17/20\n",
      "92336/92336 [==============================] - 5s 51us/step - loss: 0.6932 - val_loss: 0.6932\n",
      "Epoch 18/20\n",
      "92336/92336 [==============================] - 5s 51us/step - loss: 0.6932 - val_loss: 0.6931\n",
      "Epoch 19/20\n",
      "92336/92336 [==============================] - 5s 52us/step - loss: 0.6932 - val_loss: 0.6931\n",
      "Epoch 20/20\n",
      "92336/92336 [==============================] - 5s 51us/step - loss: 0.6931 - val_loss: 0.6932\n"
     ]
    },
    {
     "data": {
      "text/plain": [
       "<keras.callbacks.History at 0x7f32537f5a58>"
      ]
     },
     "execution_count": 15,
     "metadata": {},
     "output_type": "execute_result"
    }
   ],
   "source": [
    "earlystopping = EarlyStopping(patience = 10,\n",
    "                              restore_best_weights=True)\n",
    "dctr_model.fit(X_train, Y_train, \n",
    "          epochs=20, \n",
    "          batch_size = 100,\n",
    "          validation_data = (X_test, Y_test),\n",
    "          callbacks = [earlystopping])"
   ]
  },
  {
   "cell_type": "code",
   "execution_count": 16,
   "metadata": {},
   "outputs": [],
   "source": [
    "X0_test = np.load(data_dir + 'part_172_5_6j_obs.npy')[:,1]\n",
    "X0_test = np.vstack([X0_test,172.5*np.ones(len(X0_test))]).T\n",
    "X1_test = np.load(data_dir + 'part_175_0_6j_obs.npy')[:,1]\n",
    "X1_test = np.vstack([X1_test,175*np.ones(len(X1_test))]).T"
   ]
  },
  {
   "cell_type": "code",
   "execution_count": 17,
   "metadata": {},
   "outputs": [],
   "source": [
    "# Get predicted probabilities\n",
    "preds_0 = dctr_model.predict(X0_test, batch_size=1000)\n",
    "preds_1 = dctr_model.predict(X1_test, batch_size=1000)"
   ]
  },
  {
   "cell_type": "code",
   "execution_count": 18,
   "metadata": {},
   "outputs": [],
   "source": [
    "weights_0 = preds_0[:,0]/preds_0[:,1]\n",
    "weights_1 = preds_1[:,0]/preds_1[:,1]"
   ]
  },
  {
   "cell_type": "code",
   "execution_count": 19,
   "metadata": {},
   "outputs": [
    {
     "name": "stdout",
     "output_type": "stream",
     "text": [
      "0.96338445\n",
      "1.0380073\n",
      "0.96338445\n",
      "1.0380073\n"
     ]
    }
   ],
   "source": [
    "print(max(weights_0))\n",
    "print(max(1/weights_0))\n",
    "print(max(weights_1))\n",
    "print(max(1/weights_1))"
   ]
  },
  {
   "cell_type": "code",
   "execution_count": 38,
   "metadata": {},
   "outputs": [
    {
     "data": {
      "text/plain": [
       "((57710,), (57710, 2))"
      ]
     },
     "execution_count": 38,
     "metadata": {},
     "output_type": "execute_result"
    }
   ],
   "source": [
    "weights_0.shape, X0_test.shape"
   ]
  },
  {
   "cell_type": "code",
   "execution_count": 39,
   "metadata": {
    "scrolled": true
   },
   "outputs": [
    {
     "data": {
      "image/png": "[encoded data removed]",
      "text/plain": [
       "<Figure size 432x288 with 1 Axes>"
      ]
     },
     "metadata": {
      "needs_background": "light"
     },
     "output_type": "display_data"
    }
   ],
   "source": [
    "bins = np.linspace(50,600,50)\n",
    "plt.title(\"Reweighting of truth hadronic masses\")\n",
    "plt.hist(X0_test[:,0], bins = bins, alpha = 0.5, label = 'm = 172.5')\n",
    "plt.hist(X0_test[:,0], bins = bins, label = 'm=172.5 weighted', weights=weights_0, histtype='step', color='k')\n",
    "plt.hist(X1_test[:,0], bins = bins, alpha = 0.5, label = 'm = 175')\n",
    "plt.legend()\n",
    "plt.show()"
   ]
  },
  {
   "cell_type": "code",
   "execution_count": 40,
   "metadata": {},
   "outputs": [],
   "source": [
    "X0_test = np.load(data_dir + 'det_172_5_6j_obs.npy')[:,1]\n",
    "X0_test = np.vstack([X0_test,172.5*np.ones(len(X0_test))]).T\n",
    "X1_test = np.load(data_dir + 'det_175_0_6j_obs.npy')[:,1]\n",
    "X1_test = np.vstack([X1_test,175*np.ones(len(X1_test))]).T"
   ]
  },
  {
   "cell_type": "code",
   "execution_count": 41,
   "metadata": {},
   "outputs": [],
   "source": [
    "# Get predicted probabilities\n",
    "preds_0 = dctr_model.predict(X0_test, batch_size=1000)\n",
    "preds_1 = dctr_model.predict(X1_test, batch_size=1000)"
   ]
  },
  {
   "cell_type": "code",
   "execution_count": 42,
   "metadata": {},
   "outputs": [],
   "source": [
    "weights_0 = preds_0[:,0]/preds_0[:,1]\n",
    "weights_1 = preds_1[:,0]/preds_1[:,1]"
   ]
  },
  {
   "cell_type": "code",
   "execution_count": 43,
   "metadata": {},
   "outputs": [
    {
     "name": "stdout",
     "output_type": "stream",
     "text": [
      "0.96338445\n",
      "1.0380073\n",
      "0.96338445\n",
      "1.0380073\n"
     ]
    }
   ],
   "source": [
    "print(max(weights_0))\n",
    "print(max(1/weights_0))\n",
    "print(max(weights_1))\n",
    "print(max(1/weights_1))"
   ]
  },
  {
   "cell_type": "code",
   "execution_count": 44,
   "metadata": {},
   "outputs": [
    {
     "data": {
      "text/plain": [
       "((57710,), (57710, 2))"
      ]
     },
     "execution_count": 44,
     "metadata": {},
     "output_type": "execute_result"
    }
   ],
   "source": [
    "weights_0.shape, X0_test.shape"
   ]
  },
  {
   "cell_type": "code",
   "execution_count": 45,
   "metadata": {},
   "outputs": [
    {
     "data": {
      "image/png": "[encoded data removed]",
      "text/plain": [
       "<Figure size 432x288 with 1 Axes>"
      ]
     },
     "metadata": {
      "needs_background": "light"
     },
     "output_type": "display_data"
    }
   ],
   "source": [
    "bins = np.linspace(50,600,50)\n",
    "plt.title(\"Reweighting of detector hadronic masses\")\n",
    "plt.hist(X0_test[:,0], bins = bins, alpha = 0.5, label = 'm = 172.5')\n",
    "plt.hist(X0_test[:,0], bins = bins, label = 'm=172.5 weighted', weights=weights_0, histtype='step', color='k')\n",
    "plt.hist(X1_test[:,0], bins = bins, alpha = 0.5, label = 'm = 175')\n",
    "plt.legend()\n",
    "plt.show()"
   ]
  }
 ],
 "metadata": {
  "kernelspec": {
   "display_name": "Python 3",
   "language": "python",
   "name": "python3"
  },
  "language_info": {
   "codemirror_mode": {
    "name": "ipython",
    "version": 3
   },
   "file_extension": ".py",
   "mimetype": "text/x-python",
   "name": "python",
   "nbconvert_exporter": "python",
   "pygments_lexer": "ipython3",
   "version": "3.5.2"
  }
 },
 "nbformat": 4,
 "nbformat_minor": 2
}
