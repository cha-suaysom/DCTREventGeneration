{
 "cells": [
  {
   "cell_type": "markdown",
   "metadata": {},
   "source": [
    "### Investigation of Top Mass Reweighting"
   ]
  },
  {
   "cell_type": "code",
   "execution_count": 227,
   "metadata": {},
   "outputs": [],
   "source": [
    "import os\n",
    "os.environ[\"CUDA_DEVICE_ORDER\"]=\"PCI_BUS_ID\"\n",
    "os.environ[\"CUDA_VISIBLE_DEVICES\"]=\"3\""
   ]
  },
  {
   "cell_type": "code",
   "execution_count": 228,
   "metadata": {},
   "outputs": [],
   "source": [
    "# standard library imports\n",
    "from __future__ import absolute_import, division, print_function\n",
    "\n",
    "import tensorflow as tf\n",
    "import numpy as np\n",
    "from matplotlib import pyplot as plt\n",
    "from sklearn.utils import shuffle\n",
    "from sklearn.model_selection import train_test_split\n",
    "from keras.utils import to_categorical\n",
    "from keras import Sequential\n",
    "from keras.layers import Lambda, Dense, Input, Layer, Dropout\n",
    "from keras.models import Model\n",
    "from keras.utils import to_categorical\n",
    "from keras.callbacks import LambdaCallback, EarlyStopping\n",
    "import keras.backend as K\n",
    "import keras\n",
    "\n",
    "\n",
    "import inspect"
   ]
  },
  {
   "cell_type": "code",
   "execution_count": 229,
   "metadata": {},
   "outputs": [],
   "source": [
    "# normalize pT and center (y, phi)\n",
    "def normalize(x):\n",
    "    mask = x[:,0] > 0\n",
    "    yphi_avg = np.average(x[mask,1:3], weights=x[mask,0], axis=0)\n",
    "    x[mask,1:3] -= yphi_avg\n",
    "    x[mask,0] /= x[:,0].sum()"
   ]
  },
  {
   "cell_type": "code",
   "execution_count": 230,
   "metadata": {},
   "outputs": [],
   "source": [
    "def preprocess_data(X):\n",
    "    for x in X:\n",
    "        normalize(x)\n",
    "    \n",
    "    # Remap PIDs to unique values in range [0,1]\n",
    "    remap_pids(X, pid_i=3)\n",
    "    return X"
   ]
  },
  {
   "cell_type": "code",
   "execution_count": 231,
   "metadata": {},
   "outputs": [],
   "source": [
    "data_dir = 'DCTRFitting/'"
   ]
  },
  {
   "cell_type": "code",
   "execution_count": 232,
   "metadata": {},
   "outputs": [],
   "source": [
    "default_had_mass = np.load(data_dir + 'part_172_5_6j_obs.npy')[:,0]"
   ]
  },
  {
   "cell_type": "code",
   "execution_count": 233,
   "metadata": {},
   "outputs": [
    {
     "data": {
      "image/png": "[encoded data removed]",
      "text/plain": [
       "<Figure size 432x288 with 1 Axes>"
      ]
     },
     "metadata": {
      "needs_background": "light"
     },
     "output_type": "display_data"
    }
   ],
   "source": [
    "plt.hist(default_had_mass, bins = np.linspace(0,700,200))\n",
    "plt.title(\"Default (172.5) Hadronic masses distribution (GeV)\")\n",
    "plt.show()"
   ]
  },
  {
   "cell_type": "code",
   "execution_count": 234,
   "metadata": {},
   "outputs": [],
   "source": [
    "truth_had_mass = np.load(data_dir+ 'part_varmass_6j_obs.npy')[:,0][:len(default_had_mass)]"
   ]
  },
  {
   "cell_type": "code",
   "execution_count": 272,
   "metadata": {},
   "outputs": [
    {
     "data": {
      "image/png": "[encoded data removed]",
      "text/plain": [
       "<Figure size 432x288 with 1 Axes>"
      ]
     },
     "metadata": {
      "needs_background": "light"
     },
     "output_type": "display_data"
    }
   ],
   "source": [
    "plt.hist(truth_had_mass, bins = np.linspace(0,700,200))\n",
    "plt.title(\"Truth (variable mass) Hadronic masses distribution (GeV)\")\n",
    "plt.show()"
   ]
  },
  {
   "cell_type": "code",
   "execution_count": 236,
   "metadata": {},
   "outputs": [
    {
     "data": {
      "image/png": "[encoded data removed]",
      "text/plain": [
       "<Figure size 432x288 with 1 Axes>"
      ]
     },
     "metadata": {
      "needs_background": "light"
     },
     "output_type": "display_data"
    }
   ],
   "source": [
    "mu_values = np.load(data_dir+ 'part_varmass_6j.npy')[:,0,-1]\n",
    "plt.hist(mu_values, bins = np.linspace(165,185,200))\n",
    "plt.title(\"Truth top mass distribution (GeV)\")\n",
    "plt.show()"
   ]
  },
  {
   "cell_type": "code",
   "execution_count": 237,
   "metadata": {},
   "outputs": [],
   "source": [
    "mu_min = 170\n",
    "mu_max = 180\n",
    "mu_values = np.random.uniform(mu_min, mu_max, len(default_had_mass))\n",
    "X0 = [(default_had_mass[i], mu_values[i]) for i in range(len(particle_mass))]\n",
    "Y0 = to_categorical(np.zeros(len(X0)), num_classes=2)"
   ]
  },
  {
   "cell_type": "code",
   "execution_count": 238,
   "metadata": {},
   "outputs": [],
   "source": [
    "mu_values = np.load(data_dir+ 'part_varmass_6j.npy')[:,0,-1]\n",
    "X1 = [(truth_had_mass[i], mu_values[i]) for i in range(len(particle_mass))]\n",
    "Y1 = to_categorical(np.ones(len(X1)), num_classes=2)"
   ]
  },
  {
   "cell_type": "code",
   "execution_count": 239,
   "metadata": {},
   "outputs": [],
   "source": [
    "X = np.concatenate((X0, X1))\n",
    "Y = np.concatenate((Y0, Y1))\n",
    "\n",
    "X_train, X_test, Y_train, Y_test = train_test_split(X, Y, test_size=0.2)"
   ]
  },
  {
   "cell_type": "code",
   "execution_count": 240,
   "metadata": {},
   "outputs": [],
   "source": [
    "inputs = Input((2,))\n",
    "hidden_layer_1 = Dense(50, activation='relu')(inputs)\n",
    "hidden_layer_2 = Dense(50, activation='relu')(hidden_layer_1)\n",
    "hidden_layer_3 = Dense(50, activation='relu')(hidden_layer_2)\n",
    "\n",
    "outputs = Dense(2, activation='softmax')(hidden_layer_3)\n",
    "\n",
    "dctr_model = Model(inputs = inputs, outputs = outputs)\n",
    "dctr_model.compile(loss='categorical_crossentropy', optimizer='Adam')"
   ]
  },
  {
   "cell_type": "code",
   "execution_count": 259,
   "metadata": {},
   "outputs": [
    {
     "name": "stdout",
     "output_type": "stream",
     "text": [
      "Train on 92336 samples, validate on 23084 samples\n",
      "Epoch 1/200\n",
      "92336/92336 [==============================] - 46s 497us/step - loss: 0.6932 - val_loss: 0.6934\n",
      "Epoch 2/200\n",
      "92336/92336 [==============================] - 46s 497us/step - loss: 0.6932 - val_loss: 0.6934\n",
      "Epoch 3/200\n",
      "92336/92336 [==============================] - 46s 497us/step - loss: 0.6932 - val_loss: 0.6932\n",
      "Epoch 4/200\n",
      "92336/92336 [==============================] - 46s 500us/step - loss: 0.6932 - val_loss: 0.6933\n",
      "Epoch 5/200\n",
      "92336/92336 [==============================] - 46s 502us/step - loss: 0.6932 - val_loss: 0.6932\n",
      "Epoch 6/200\n",
      "92336/92336 [==============================] - 47s 506us/step - loss: 0.6932 - val_loss: 0.6933\n",
      "Epoch 7/200\n",
      "92336/92336 [==============================] - 47s 514us/step - loss: 0.6933 - val_loss: 0.6932\n",
      "Epoch 8/200\n",
      "92336/92336 [==============================] - 48s 521us/step - loss: 0.6932 - val_loss: 0.6934\n",
      "Epoch 9/200\n",
      "92336/92336 [==============================] - 48s 523us/step - loss: 0.6932 - val_loss: 0.6931\n",
      "Epoch 10/200\n",
      "92336/92336 [==============================] - 49s 530us/step - loss: 0.6932 - val_loss: 0.6931\n",
      "Epoch 11/200\n",
      "92336/92336 [==============================] - 49s 535us/step - loss: 0.6932 - val_loss: 0.6932\n",
      "Epoch 12/200\n",
      "92336/92336 [==============================] - 49s 536us/step - loss: 0.6933 - val_loss: 0.6932\n",
      "Epoch 13/200\n",
      "92336/92336 [==============================] - 50s 542us/step - loss: 0.6932 - val_loss: 0.6932\n",
      "Epoch 14/200\n",
      "92336/92336 [==============================] - 50s 546us/step - loss: 0.6932 - val_loss: 0.6933\n",
      "Epoch 15/200\n",
      "92336/92336 [==============================] - 50s 546us/step - loss: 0.6932 - val_loss: 0.6931\n",
      "Epoch 16/200\n",
      "92336/92336 [==============================] - 51s 550us/step - loss: 0.6932 - val_loss: 0.6932\n",
      "Epoch 17/200\n",
      "92336/92336 [==============================] - 51s 552us/step - loss: 0.6932 - val_loss: 0.6932\n",
      "Epoch 18/200\n",
      "92336/92336 [==============================] - 51s 555us/step - loss: 0.6932 - val_loss: 0.6932\n",
      "Epoch 19/200\n",
      "92336/92336 [==============================] - 51s 556us/step - loss: 0.6932 - val_loss: 0.6933\n"
     ]
    },
    {
     "data": {
      "text/plain": [
       "<keras.callbacks.History at 0x7f3e147a0320>"
      ]
     },
     "execution_count": 259,
     "metadata": {},
     "output_type": "execute_result"
    }
   ],
   "source": [
    "earlystopping = EarlyStopping(patience = 10,\n",
    "                              restore_best_weights=True)\n",
    "dctr_model.fit(X_train, Y_train, \n",
    "          epochs=200, \n",
    "          batch_size = 10,\n",
    "          validation_data = (X_test, Y_test),\n",
    "          callbacks = [earlystopping])"
   ]
  },
  {
   "cell_type": "code",
   "execution_count": 260,
   "metadata": {},
   "outputs": [],
   "source": [
    "X0_test = np.load(data_dir + 'part_172_5_6j_obs.npy')[:,0]\n",
    "X0_test = np.vstack([X0_test,172.5*np.ones(len(X0_test))]).T\n",
    "X1_test = np.load(data_dir + 'part_175_0_6j_obs.npy')[:,0]\n",
    "X1_test = np.vstack([X1_test,175*np.ones(len(X1_test))]).T"
   ]
  },
  {
   "cell_type": "code",
   "execution_count": 261,
   "metadata": {},
   "outputs": [],
   "source": [
    "# Get predicted probabilities\n",
    "preds_0 = dctr_model.predict(X0_test, batch_size=1000)\n",
    "preds_1 = dctr_model.predict(X1_test, batch_size=1000)"
   ]
  },
  {
   "cell_type": "code",
   "execution_count": 262,
   "metadata": {},
   "outputs": [],
   "source": [
    "weights_0 = preds_0[:,0]/preds_0[:,1]\n",
    "weights_1 = preds_1[:,0]/preds_1[:,1]"
   ]
  },
  {
   "cell_type": "code",
   "execution_count": 263,
   "metadata": {},
   "outputs": [
    {
     "name": "stdout",
     "output_type": "stream",
     "text": [
      "0.99186516\n",
      "1.0082016\n",
      "3.6635766\n",
      "1.0082016\n"
     ]
    }
   ],
   "source": [
    "print(max(weights_0))\n",
    "print(max(1/weights_0))\n",
    "print(max(weights_1))\n",
    "print(max(1/weights_1))"
   ]
  },
  {
   "cell_type": "code",
   "execution_count": 264,
   "metadata": {},
   "outputs": [
    {
     "data": {
      "text/plain": [
       "((57710,), (57710, 2))"
      ]
     },
     "execution_count": 264,
     "metadata": {},
     "output_type": "execute_result"
    }
   ],
   "source": [
    "weights_0.shape, X0_test.shape"
   ]
  },
  {
   "cell_type": "code",
   "execution_count": 265,
   "metadata": {
    "scrolled": true
   },
   "outputs": [
    {
     "data": {
      "image/png": "[encoded data removed]",
      "text/plain": [
       "<Figure size 432x288 with 1 Axes>"
      ]
     },
     "metadata": {
      "needs_background": "light"
     },
     "output_type": "display_data"
    }
   ],
   "source": [
    "bins = np.linspace(0,700,50)\n",
    "plt.title(\"Reweighting of truth hadronic masses\")\n",
    "plt.hist(X0_test[:,0], bins = bins, alpha = 0.5, label = 'm = 172.5')\n",
    "plt.hist(X0_test[:,0], bins = bins, label = 'm=172.5 weighted', weights=weights_0, histtype='step', color='k')\n",
    "plt.hist(X1_test[:,0], bins = bins, alpha = 0.5, label = 'm = 175')\n",
    "plt.legend()\n",
    "plt.show()"
   ]
  },
  {
   "cell_type": "code",
   "execution_count": 266,
   "metadata": {},
   "outputs": [],
   "source": [
    "X0_test = np.load(data_dir + 'det_172_5_6j_obs.npy')[:,0]\n",
    "X0_test = np.vstack([X0_test,172.5*np.ones(len(X0_test))]).T\n",
    "X1_test = np.load(data_dir + 'det_175_0_6j_obs.npy')[:,0]\n",
    "X1_test = np.vstack([X1_test,175*np.ones(len(X1_test))]).T"
   ]
  },
  {
   "cell_type": "code",
   "execution_count": 267,
   "metadata": {},
   "outputs": [],
   "source": [
    "# Get predicted probabilities\n",
    "preds_0 = dctr_model.predict(X0_test, batch_size=1000)\n",
    "preds_1 = dctr_model.predict(X1_test, batch_size=1000)"
   ]
  },
  {
   "cell_type": "code",
   "execution_count": 268,
   "metadata": {},
   "outputs": [],
   "source": [
    "weights_0 = preds_0[:,0]/preds_0[:,1]\n",
    "weights_1 = preds_1[:,0]/preds_1[:,1]"
   ]
  },
  {
   "cell_type": "code",
   "execution_count": 269,
   "metadata": {},
   "outputs": [
    {
     "name": "stdout",
     "output_type": "stream",
     "text": [
      "1.1583763\n",
      "1.0082016\n",
      "1.2039391\n",
      "1.0082016\n"
     ]
    }
   ],
   "source": [
    "print(max(weights_0))\n",
    "print(max(1/weights_0))\n",
    "print(max(weights_1))\n",
    "print(max(1/weights_1))"
   ]
  },
  {
   "cell_type": "code",
   "execution_count": 270,
   "metadata": {},
   "outputs": [
    {
     "data": {
      "text/plain": [
       "((57710,), (57710, 2))"
      ]
     },
     "execution_count": 270,
     "metadata": {},
     "output_type": "execute_result"
    }
   ],
   "source": [
    "weights_0.shape, X0_test.shape"
   ]
  },
  {
   "cell_type": "code",
   "execution_count": 273,
   "metadata": {
    "scrolled": true
   },
   "outputs": [
    {
     "data": {
      "image/png": "[encoded data removed]",
      "text/plain": [
       "<Figure size 432x288 with 1 Axes>"
      ]
     },
     "metadata": {
      "needs_background": "light"
     },
     "output_type": "display_data"
    }
   ],
   "source": [
    "bins = np.linspace(0,700,50)\n",
    "plt.title(\"Reweighting of detector hadronic masses\")\n",
    "plt.hist(X0_test[:,0], bins = bins, alpha = 0.5, label = 'm = 172.5')\n",
    "plt.hist(X0_test[:,0], bins = bins, label = 'm=172.5 weighted', weights=weights_0, histtype='step', color='k')\n",
    "plt.hist(X1_test[:,0], bins = bins, alpha = 0.5, label = 'm = 175')\n",
    "plt.legend()\n",
    "plt.show()"
   ]
  }
 ],
 "metadata": {
  "kernelspec": {
   "display_name": "Python 3",
   "language": "python",
   "name": "python3"
  },
  "language_info": {
   "codemirror_mode": {
    "name": "ipython",
    "version": 3
   },
   "file_extension": ".py",
   "mimetype": "text/x-python",
   "name": "python",
   "nbconvert_exporter": "python",
   "pygments_lexer": "ipython3",
   "version": "3.5.2"
  }
 },
 "nbformat": 4,
 "nbformat_minor": 2
}
