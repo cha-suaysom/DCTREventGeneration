{
 "cells": [
  {
   "cell_type": "markdown",
   "metadata": {},
   "source": [
    "### Investigation of Top Mass Observables Reweighting"
   ]
  },
  {
   "cell_type": "markdown",
   "metadata": {},
   "source": [
    "This notebook investigates DCTR reweighting performance on top mass daset\n",
    "\n",
    "* We use only the hadronic jets as input data \n",
    "* We use PFN for DCTR models\n",
    "* The model is tested on reweighting from observables"
   ]
  },
  {
   "cell_type": "markdown",
   "metadata": {},
   "source": [
    "### Imports"
   ]
  },
  {
   "cell_type": "code",
   "execution_count": 1,
   "metadata": {},
   "outputs": [],
   "source": [
    "import os\n",
    "os.environ[\"CUDA_DEVICE_ORDER\"]=\"PCI_BUS_ID\"\n",
    "os.environ[\"CUDA_VISIBLE_DEVICES\"]=\"3\""
   ]
  },
  {
   "cell_type": "code",
   "execution_count": 2,
   "metadata": {},
   "outputs": [
    {
     "name": "stderr",
     "output_type": "stream",
     "text": [
      "/home/csuaysom/.local/lib/python3.5/site-packages/tensorflow/python/framework/dtypes.py:523: FutureWarning: Passing (type, 1) or '1type' as a synonym of type is deprecated; in a future version of numpy, it will be understood as (type, (1,)) / '(1,)type'.\n",
      "  _np_qint8 = np.dtype([(\"qint8\", np.int8, 1)])\n",
      "/home/csuaysom/.local/lib/python3.5/site-packages/tensorflow/python/framework/dtypes.py:524: FutureWarning: Passing (type, 1) or '1type' as a synonym of type is deprecated; in a future version of numpy, it will be understood as (type, (1,)) / '(1,)type'.\n",
      "  _np_quint8 = np.dtype([(\"quint8\", np.uint8, 1)])\n",
      "/home/csuaysom/.local/lib/python3.5/site-packages/tensorflow/python/framework/dtypes.py:525: FutureWarning: Passing (type, 1) or '1type' as a synonym of type is deprecated; in a future version of numpy, it will be understood as (type, (1,)) / '(1,)type'.\n",
      "  _np_qint16 = np.dtype([(\"qint16\", np.int16, 1)])\n",
      "/home/csuaysom/.local/lib/python3.5/site-packages/tensorflow/python/framework/dtypes.py:526: FutureWarning: Passing (type, 1) or '1type' as a synonym of type is deprecated; in a future version of numpy, it will be understood as (type, (1,)) / '(1,)type'.\n",
      "  _np_quint16 = np.dtype([(\"quint16\", np.uint16, 1)])\n",
      "/home/csuaysom/.local/lib/python3.5/site-packages/tensorflow/python/framework/dtypes.py:527: FutureWarning: Passing (type, 1) or '1type' as a synonym of type is deprecated; in a future version of numpy, it will be understood as (type, (1,)) / '(1,)type'.\n",
      "  _np_qint32 = np.dtype([(\"qint32\", np.int32, 1)])\n",
      "/home/csuaysom/.local/lib/python3.5/site-packages/tensorflow/python/framework/dtypes.py:532: FutureWarning: Passing (type, 1) or '1type' as a synonym of type is deprecated; in a future version of numpy, it will be understood as (type, (1,)) / '(1,)type'.\n",
      "  np_resource = np.dtype([(\"resource\", np.ubyte, 1)])\n",
      "Using TensorFlow backend.\n"
     ]
    }
   ],
   "source": [
    "# standard library imports\n",
    "from __future__ import absolute_import, division, print_function\n",
    "\n",
    "import tensorflow as tf\n",
    "import numpy as np\n",
    "from matplotlib import pyplot as plt\n",
    "from sklearn.utils import shuffle\n",
    "from sklearn.model_selection import train_test_split\n",
    "from keras.utils import to_categorical\n",
    "from keras import Sequential\n",
    "from keras.layers import Lambda, Dense, Input, Layer, Dropout\n",
    "from keras.models import Model\n",
    "from keras.utils import to_categorical\n",
    "from keras.callbacks import LambdaCallback, EarlyStopping\n",
    "import keras.backend as K\n",
    "import keras\n",
    "\n",
    "\n",
    "import inspect"
   ]
  },
  {
   "cell_type": "markdown",
   "metadata": {},
   "source": [
    "### Load the truth data for top mass 172.5 and split 80% for training and 20% for testing"
   ]
  },
  {
   "cell_type": "markdown",
   "metadata": {},
   "source": [
    "Instead of using hadronic mass we used 3 particle from the hadronic top. \n",
    "* Hadronic top: 'hadronicbjet' 'wjet1' 'wjet2'\n",
    "* Normalization is done as follow\n",
    "    * eta,phi are centered\n",
    "    * pT and mW are unit normalized"
   ]
  },
  {
   "cell_type": "code",
   "execution_count": 3,
   "metadata": {},
   "outputs": [],
   "source": [
    "from scipy import stats"
   ]
  },
  {
   "cell_type": "code",
   "execution_count": 4,
   "metadata": {},
   "outputs": [],
   "source": [
    "def preprocess_data(X):\n",
    "    return stats.zscore(X)"
   ]
  },
  {
   "cell_type": "code",
   "execution_count": 5,
   "metadata": {},
   "outputs": [],
   "source": [
    "data_dir = 'DCTRFitting/'"
   ]
  },
  {
   "cell_type": "markdown",
   "metadata": {},
   "source": [
    "The indices for the jets are as follow\n",
    "* 0: part_event['leptonbjet']   + [mtop],\n",
    "* 1: part_event['hadronicbjet'] + [mtop],\n",
    "* 2: part_event['lepton']       + [mtop],\n",
    "* 3: part_event['neutrino']     + [mtop],\n",
    "* 4 : part_event['wjet1']        + [mtop],\n",
    "* 5: part_event['wjet2']        + [mtop],\n",
    "\n",
    "Since we are focusing on hadronic top, we use the indices 1,4,5"
   ]
  },
  {
   "cell_type": "code",
   "execution_count": 6,
   "metadata": {},
   "outputs": [],
   "source": [
    "default_had_mass_all = preprocess_data(np.load(data_dir + 'part_172_5_6j.npy')[:,[1,4,5],:-1])\n",
    "default_had_mass = default_had_mass_all[:int(len(default_had_mass_all)*0.8)]\n",
    "test_had_mass = default_had_mass_all[int(len(default_had_mass_all)*0.8):]"
   ]
  },
  {
   "cell_type": "code",
   "execution_count": 7,
   "metadata": {},
   "outputs": [],
   "source": [
    "truth_had_mass = preprocess_data(np.load(data_dir + 'part_175_0_6j.npy')[:,[1,4,5],:-1])[:len(default_had_mass)]"
   ]
  },
  {
   "cell_type": "markdown",
   "metadata": {},
   "source": [
    "### Prepare sample for DCTR reweighting"
   ]
  },
  {
   "cell_type": "code",
   "execution_count": 8,
   "metadata": {},
   "outputs": [],
   "source": [
    "X0 = default_had_mass\n",
    "Y0 = to_categorical(np.zeros(len(X0)), num_classes=2)"
   ]
  },
  {
   "cell_type": "code",
   "execution_count": 9,
   "metadata": {},
   "outputs": [],
   "source": [
    "X1 = truth_had_mass\n",
    "Y1 = to_categorical(np.ones(len(X1)), num_classes=2)"
   ]
  },
  {
   "cell_type": "code",
   "execution_count": 10,
   "metadata": {},
   "outputs": [],
   "source": [
    "X = np.concatenate((X0, X1))\n",
    "Y = np.concatenate((Y0, Y1))\n",
    "\n",
    "X_train, X_test, Y_train, Y_test = train_test_split(X, Y, test_size=0.2)"
   ]
  },
  {
   "cell_type": "markdown",
   "metadata": {},
   "source": [
    "### Define a PFN for reweighting"
   ]
  },
  {
   "cell_type": "code",
   "execution_count": 11,
   "metadata": {},
   "outputs": [],
   "source": [
    "import energyflow as ef\n",
    "from energyflow.archs import PFN\n",
    "from energyflow.utils import data_split, remap_pids, to_categorical\n",
    "\n",
    "# network architecture parameters\n",
    "Phi_sizes = (100,100, 128)\n",
    "F_sizes = (100,100, 100)\n",
    "\n",
    "dctr_model = PFN(input_dim=4, \n",
    "           Phi_sizes=Phi_sizes, F_sizes=F_sizes,\n",
    "           summary=False)"
   ]
  },
  {
   "cell_type": "code",
   "execution_count": 12,
   "metadata": {},
   "outputs": [],
   "source": [
    "from keras.callbacks import LambdaCallback, EarlyStopping"
   ]
  },
  {
   "cell_type": "code",
   "execution_count": 13,
   "metadata": {},
   "outputs": [],
   "source": [
    "save_label = 'DCTR_pfn_jets'\n",
    "\n",
    "checkpoint = keras.callbacks.ModelCheckpoint('./saved_models/' + save_label + '.h5', \n",
    "                                                monitor='val_loss', \n",
    "                                                verbose=2, \n",
    "                                                save_best_only=True, \n",
    "                                                mode='min')\n",
    "\n",
    "CSVLogger = keras.callbacks.CSVLogger('./logs/' + save_label + '_loss.csv', append=False)\n",
    "\n",
    "EarlyStopping = keras.callbacks.EarlyStopping(monitor='val_loss', \n",
    "                                              min_delta=0, \n",
    "                                              patience=10, \n",
    "                                              verbose=1, \n",
    "                                              restore_best_weights=True)\n",
    "\n",
    "callbacks = [checkpoint, CSVLogger, EarlyStopping]"
   ]
  },
  {
   "cell_type": "code",
   "execution_count": 14,
   "metadata": {},
   "outputs": [
    {
     "name": "stdout",
     "output_type": "stream",
     "text": [
      "Train on 73868 samples, validate on 18468 samples\n",
      "Epoch 1/10\n",
      "73868/73868 [==============================] - 98s 1ms/step - loss: 0.6988 - acc: 0.5004 - val_loss: 0.6933 - val_acc: 0.4998\n",
      "\n",
      "Epoch 00001: val_loss improved from inf to 0.69328, saving model to ./saved_models/DCTR_pfn_jets.h5\n",
      "Epoch 2/10\n",
      "73868/73868 [==============================] - 96s 1ms/step - loss: 0.6935 - acc: 0.4983 - val_loss: 0.6931 - val_acc: 0.5003\n",
      "\n",
      "Epoch 00002: val_loss improved from 0.69328 to 0.69314, saving model to ./saved_models/DCTR_pfn_jets.h5\n",
      "Epoch 3/10\n",
      "73868/73868 [==============================] - 95s 1ms/step - loss: 0.6934 - acc: 0.4991 - val_loss: 0.6934 - val_acc: 0.4989\n",
      "\n",
      "Epoch 00003: val_loss did not improve from 0.69314\n",
      "Epoch 4/10\n",
      "73868/73868 [==============================] - 95s 1ms/step - loss: 0.6933 - acc: 0.4993 - val_loss: 0.6932 - val_acc: 0.4989\n",
      "\n",
      "Epoch 00004: val_loss did not improve from 0.69314\n",
      "Epoch 5/10\n",
      "73868/73868 [==============================] - 96s 1ms/step - loss: 0.6932 - acc: 0.4994 - val_loss: 0.6932 - val_acc: 0.4973\n",
      "\n",
      "Epoch 00005: val_loss did not improve from 0.69314\n",
      "Epoch 6/10\n",
      "73868/73868 [==============================] - 95s 1ms/step - loss: 0.6933 - acc: 0.5017 - val_loss: 0.6932 - val_acc: 0.4967\n",
      "\n",
      "Epoch 00006: val_loss did not improve from 0.69314\n",
      "Epoch 7/10\n",
      "73868/73868 [==============================] - 96s 1ms/step - loss: 0.6933 - acc: 0.4971 - val_loss: 0.6932 - val_acc: 0.5011\n",
      "\n",
      "Epoch 00007: val_loss did not improve from 0.69314\n",
      "Epoch 8/10\n",
      "73868/73868 [==============================] - 95s 1ms/step - loss: 0.6933 - acc: 0.4992 - val_loss: 0.6932 - val_acc: 0.5011\n",
      "\n",
      "Epoch 00008: val_loss did not improve from 0.69314\n",
      "Epoch 9/10\n",
      "73868/73868 [==============================] - 95s 1ms/step - loss: 0.6933 - acc: 0.5001 - val_loss: 0.6932 - val_acc: 0.5011\n",
      "\n",
      "Epoch 00009: val_loss did not improve from 0.69314\n",
      "Epoch 10/10\n",
      "73868/73868 [==============================] - 95s 1ms/step - loss: 0.6932 - acc: 0.4986 - val_loss: 0.6932 - val_acc: 0.4989\n",
      "\n",
      "Epoch 00010: val_loss did not improve from 0.69314\n"
     ]
    }
   ],
   "source": [
    "history = dctr_model.fit(X_train, Y_train,\n",
    "                    epochs = 10,\n",
    "                    batch_size = 10,\n",
    "                    validation_data = (X_test, Y_test),\n",
    "                    verbose = 1, \n",
    "                    callbacks = callbacks)"
   ]
  },
  {
   "cell_type": "code",
   "execution_count": 15,
   "metadata": {},
   "outputs": [
    {
     "data": {
      "image/png": "[encoded data removed]",
      "text/plain": [
       "<Figure size 432x288 with 1 Axes>"
      ]
     },
     "metadata": {
      "needs_background": "light"
     },
     "output_type": "display_data"
    }
   ],
   "source": [
    "plt.title(\"Training and validation loss per epoch\")\n",
    "plt.xlabel(\"epoch\")\n",
    "plt.ylabel(\"loss value\")\n",
    "plt.plot(dctr_model.history.history['val_loss'], label = \"validation loss\")\n",
    "plt.plot(dctr_model.history.history['loss'], label = \"training loss loss\")\n",
    "plt.legend()\n",
    "plt.show()"
   ]
  },
  {
   "cell_type": "markdown",
   "metadata": {},
   "source": [
    "## Reweighting from data of mass 172.5 to 175"
   ]
  },
  {
   "cell_type": "markdown",
   "metadata": {},
   "source": [
    "### Calculate the weight from DCTR model"
   ]
  },
  {
   "cell_type": "code",
   "execution_count": 16,
   "metadata": {},
   "outputs": [],
   "source": [
    "X0_test = preprocess_data(test_had_mass)"
   ]
  },
  {
   "cell_type": "code",
   "execution_count": 17,
   "metadata": {},
   "outputs": [],
   "source": [
    "preds = dctr_model.predict(X0_test)\n",
    "weights = preds[:,1]/preds[:,0]"
   ]
  },
  {
   "cell_type": "code",
   "execution_count": 18,
   "metadata": {},
   "outputs": [
    {
     "data": {
      "image/png": "[encoded data removed]",
      "text/plain": [
       "<Figure size 432x288 with 1 Axes>"
      ]
     },
     "metadata": {
      "needs_background": "light"
     },
     "output_type": "display_data"
    }
   ],
   "source": [
    "bins = np.linspace(0.9,1.1,50)\n",
    "plt.hist(weights, bins = bins, alpha = 0.5)[0]\n",
    "plt.title(\"Distribution of weight from mass 172.5 data\")\n",
    "plt.show()"
   ]
  },
  {
   "cell_type": "markdown",
   "metadata": {},
   "source": [
    "### Load jets observables to perform reweighting"
   ]
  },
  {
   "cell_type": "code",
   "execution_count": 19,
   "metadata": {},
   "outputs": [],
   "source": [
    "X0_test_obs = np.load(data_dir + 'part_172_5_6j_obs.npy')[:,1][int(len(default_had_mass_all)*0.8):]\n",
    "X1_test_obs = np.load(data_dir + 'part_175_0_6j_obs.npy')[:,1][:len(X0_test_obs)]"
   ]
  },
  {
   "cell_type": "code",
   "execution_count": 20,
   "metadata": {},
   "outputs": [
    {
     "data": {
      "image/png": "[encoded data removed]",
      "text/plain": [
       "<Figure size 432x288 with 1 Axes>"
      ]
     },
     "metadata": {
      "needs_background": "light"
     },
     "output_type": "display_data"
    }
   ],
   "source": [
    "bins = np.linspace(100,700,50)\n",
    "plt.title(\"Reweighting of hadronic mass\")\n",
    "\n",
    "target_data_hist = plt.hist(X0_test_obs, bins = bins, alpha = 0.5, label = 'm = 172.5')[0]\n",
    "reweight_data_hist = plt.hist(X0_test_obs, bins = bins, label = 'm=172.5 weighted', weights=weights)[0]\n",
    "default_data_hist = plt.hist(X1_test_obs, bins = bins, alpha = 0.5, label = 'm = 175',histtype='step', color='k')[0]\n",
    "plt.legend()\n",
    "plt.show()"
   ]
  }
 ],
 "metadata": {
  "kernelspec": {
   "display_name": "Python 3",
   "language": "python",
   "name": "python3"
  },
  "language_info": {
   "codemirror_mode": {
    "name": "ipython",
    "version": 3
   },
   "file_extension": ".py",
   "mimetype": "text/x-python",
   "name": "python",
   "nbconvert_exporter": "python",
   "pygments_lexer": "ipython3",
   "version": "3.5.2"
  }
 },
 "nbformat": 4,
 "nbformat_minor": 2
}
