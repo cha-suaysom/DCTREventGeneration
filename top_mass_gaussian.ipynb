{
 "cells": [
  {
   "cell_type": "markdown",
   "metadata": {},
   "source": [
    "# Introduction"
   ]
  },
  {
   "cell_type": "markdown",
   "metadata": {},
   "source": [
    "This notebook simulates the top mass reweighting by using Gaussian with mean 172.5 and 175 with with large variance"
   ]
  },
  {
   "cell_type": "markdown",
   "metadata": {},
   "source": [
    "## Imports"
   ]
  },
  {
   "cell_type": "code",
   "execution_count": 32,
   "metadata": {},
   "outputs": [],
   "source": [
    "# standard library imports\n",
    "from __future__ import absolute_import, division, print_function\n",
    "\n",
    "import tensorflow as tf\n",
    "from tensorflow.keras.layers import Lambda, Dense, Input, Layer, Dropout\n",
    "from tensorflow.keras.models import Model\n",
    "from sklearn.model_selection import train_test_split\n",
    "from tensorflow.keras.utils import to_categorical\n",
    "from tensorflow.keras.callbacks import EarlyStopping, LambdaCallback\n",
    "from tensorflow.keras.initializers import Constant\n",
    "from tensorflow.keras.backend import concatenate\n",
    "\n",
    "# standard numerical library imports\n",
    "import numpy as np\n",
    "import scipy as sp\n",
    "\n",
    "import matplotlib.pyplot as plt"
   ]
  },
  {
   "cell_type": "code",
   "execution_count": 33,
   "metadata": {},
   "outputs": [],
   "source": [
    "# Global plot settings\n",
    "from matplotlib import rc\n",
    "import matplotlib.font_manager\n",
    "rc('font', family='serif')\n",
    "rc('text', usetex=True)\n",
    "rc('font', size=22) \n",
    "rc('xtick', labelsize=15) \n",
    "rc('ytick', labelsize=15) \n",
    "rc('legend', fontsize=15)"
   ]
  },
  {
   "cell_type": "markdown",
   "metadata": {},
   "source": [
    "# Reweighting $\\mathcal{N}(172.5, 30)$ to $\\mathcal{N}(175, 30)$"
   ]
  },
  {
   "cell_type": "markdown",
   "metadata": {},
   "source": [
    "## Build datasets"
   ]
  },
  {
   "cell_type": "code",
   "execution_count": 34,
   "metadata": {},
   "outputs": [],
   "source": [
    "n_data_points = 10**6\n",
    "\n",
    "mu0 = 172.5\n",
    "mu1 = 175\n",
    "var0 = 30\n",
    "var1 = 30\n",
    "\n",
    "X0 = np.random.normal(mu0, var0, n_data_points)\n",
    "X1 = np.random.normal(mu1, var1, n_data_points)\n",
    "\n",
    "Y0 = to_categorical(np.zeros(n_data_points), num_classes=2)\n",
    "Y1 = to_categorical(np.ones(n_data_points), num_classes=2)\n",
    "\n",
    "X = np.concatenate((X0, X1))\n",
    "Y = np.concatenate((Y0, Y1))\n",
    "\n",
    "X_train, X_test, Y_train, Y_test = train_test_split(X, Y, test_size=0.2)"
   ]
  },
  {
   "cell_type": "markdown",
   "metadata": {},
   "source": [
    "## Build Model"
   ]
  },
  {
   "cell_type": "code",
   "execution_count": 35,
   "metadata": {},
   "outputs": [],
   "source": [
    "inputs = Input((1,))\n",
    "hidden_layer_1 = Dense(20, activation='relu')(inputs)\n",
    "hidden_layer_2 = Dense(20, activation='relu')(hidden_layer_1)\n",
    "hidden_layer_3 = Dense(20, activation='relu')(hidden_layer_2)\n",
    "\n",
    "outputs = Dense(2, activation='softmax')(hidden_layer_3)\n",
    "\n",
    "model = Model(inputs = inputs, outputs = outputs)\n",
    "model.compile(loss='categorical_crossentropy', optimizer='Adam', )"
   ]
  },
  {
   "cell_type": "markdown",
   "metadata": {},
   "source": [
    "## Train Model"
   ]
  },
  {
   "cell_type": "code",
   "execution_count": 36,
   "metadata": {
    "scrolled": true
   },
   "outputs": [
    {
     "name": "stdout",
     "output_type": "stream",
     "text": [
      "Train on 1600000 samples, validate on 400000 samples\n",
      "Epoch 1/10\n",
      "1600000/1600000 [==============================] - 91s 57us/step - loss: 0.8069 - val_loss: 0.6933\n",
      "Epoch 2/10\n",
      "1600000/1600000 [==============================] - 90s 57us/step - loss: 0.6932 - val_loss: 0.6932\n",
      "Epoch 3/10\n",
      "1600000/1600000 [==============================] - 90s 57us/step - loss: 0.6932 - val_loss: 0.6932\n",
      "Epoch 4/10\n",
      "1600000/1600000 [==============================] - 91s 57us/step - loss: 0.6932 - val_loss: 0.6932\n",
      "Epoch 5/10\n",
      "1600000/1600000 [==============================] - 90s 57us/step - loss: 0.6932 - val_loss: 0.6932\n",
      "Epoch 6/10\n",
      "1600000/1600000 [==============================] - 91s 57us/step - loss: 0.6932 - val_loss: 0.6931\n",
      "Epoch 7/10\n",
      "1600000/1600000 [==============================] - 91s 57us/step - loss: 0.6932 - val_loss: 0.6931\n",
      "Epoch 8/10\n",
      "1600000/1600000 [==============================] - 90s 57us/step - loss: 0.6932 - val_loss: 0.6932\n",
      "Epoch 9/10\n",
      "1600000/1600000 [==============================] - 91s 57us/step - loss: 0.6932 - val_loss: 0.6932\n",
      "Epoch 10/10\n",
      "1600000/1600000 [==============================] - 91s 57us/step - loss: 0.6932 - val_loss: 0.6932\n"
     ]
    }
   ],
   "source": [
    "earlystopping = EarlyStopping(patience = 10,)\n",
    "\n",
    "history = model.fit(X_train, Y_train, \n",
    "          epochs=10, \n",
    "          batch_size = 100,\n",
    "          validation_data = (X_test, Y_test),\n",
    "          callbacks = [earlystopping])"
   ]
  },
  {
   "cell_type": "code",
   "execution_count": 37,
   "metadata": {},
   "outputs": [
    {
     "data": {
      "image/png": "[encoded data removed]",
      "text/plain": [
       "<Figure size 432x288 with 1 Axes>"
      ]
     },
     "metadata": {
      "needs_background": "light"
     },
     "output_type": "display_data"
    }
   ],
   "source": [
    "plt.plot(history.history['loss'],     label = 'loss')\n",
    "plt.plot(history.history['val_loss'], label = 'val loss')\n",
    "plt.legend(loc=0)\n",
    "plt.ylabel('loss')\n",
    "plt.xlabel('Epochs')\n",
    "plt.show()"
   ]
  },
  {
   "cell_type": "markdown",
   "metadata": {},
   "source": [
    "## Validate the reweighting of $\\mathcal{N}(172.5, 30)$ to $\\mathcal{N}(175, 30)$"
   ]
  },
  {
   "cell_type": "code",
   "execution_count": 38,
   "metadata": {},
   "outputs": [],
   "source": [
    "X0_val = np.random.normal(mu0, var0, n_data_points)\n",
    "X1_val = np.random.normal(mu1, var1, n_data_points)"
   ]
  },
  {
   "cell_type": "code",
   "execution_count": 39,
   "metadata": {},
   "outputs": [],
   "source": [
    "preds = model.predict(X0_val)\n",
    "weights = preds[:,1]/preds[:,0]"
   ]
  },
  {
   "cell_type": "code",
   "execution_count": 42,
   "metadata": {},
   "outputs": [
    {
     "data": {
      "image/png": "[encoded data removed]",
      "text/plain": [
       "<Figure size 432x288 with 1 Axes>"
      ]
     },
     "metadata": {
      "needs_background": "light"
     },
     "output_type": "display_data"
    }
   ],
   "source": [
    "bins = np.linspace(0.9,1.1,50)\n",
    "plt.hist(weights, bins = bins, alpha = 0.5)[0]\n",
    "plt.title(\"Distribution of weight\")\n",
    "plt.show()"
   ]
  },
  {
   "cell_type": "code",
   "execution_count": 53,
   "metadata": {},
   "outputs": [
    {
     "data": {
      "image/png": "[encoded data removed]",
      "text/plain": [
       "<Figure size 432x288 with 1 Axes>"
      ]
     },
     "metadata": {
      "needs_background": "light"
     },
     "output_type": "display_data"
    }
   ],
   "source": [
    "bins = np.linspace(100,300,50)\n",
    "plt.hist(X0_val, bins = bins, alpha = 0.5, label = r'$\\mu=172.5$')\n",
    "plt.hist(X0_val, bins = bins, label = r'$\\mu=172.5$ weighted', weights=weights, histtype='step', color='k')\n",
    "plt.hist(X1_val, bins = bins, alpha = 0.5, label = r'$\\mu=175$')\n",
    "plt.legend()\n",
    "plt.show()"
   ]
  }
 ],
 "metadata": {
  "kernelspec": {
   "display_name": "Python 3",
   "language": "python",
   "name": "python3"
  },
  "language_info": {
   "codemirror_mode": {
    "name": "ipython",
    "version": 3
   },
   "file_extension": ".py",
   "mimetype": "text/x-python",
   "name": "python",
   "nbconvert_exporter": "python",
   "pygments_lexer": "ipython3",
   "version": "3.5.2"
  }
 },
 "nbformat": 4,
 "nbformat_minor": 2
}
